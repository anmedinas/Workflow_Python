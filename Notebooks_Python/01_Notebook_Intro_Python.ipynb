{
 "cells": [
  {
   "cell_type": "markdown",
   "metadata": {
    "collapsed": true
   },
   "source": [
    "# Lección 1: Introducción a Python\n",
    "### [Andrés C. Medina](anmedinas@gmail.com)"
   ]
  },
  {
   "cell_type": "markdown",
   "metadata": {},
   "source": [
    "<img style=\"float: right;\" src=\"../figs/logo_python.png\">\n",
    "```Python``` es un lenguaje de programación de alto nivel, interpretado y multipropósito. En los últimos años su utilización\n",
    "ha sido creciente y en la actualidad es uno de los lenguajes de programación mas empleados para el desarrollo de software.\n",
    "\n",
    "¿Tiene ```Python``` un ámbito específico?. Alguno lenguajes de programación si lo tienen. Por ejemplo ```PHP``` fue concebido para desarrollar software y aplicaciones web. No obstante, este, no es el caso de ```Python```, dado que fue ideado para desarrollar softwares con aplicaciones científicas, sistemas de comunicaciones, aplicaciones de escritorio, interfaz gráfica, crear juegos, aplicaciones web, entre otros. \n",
    "\n",
    "Empresas y organizaciones del calibre de **NASA**, **Google**, **Yahoo**, **Red-Hat**, hacen uso extensivo de ```Python``` para desarrollar sus propios productos y servicios, esto demuestra que ```Python``` puede ser utilizado en diversos tipos de sectores con independencia de su actividad empresarial.\n",
    "\n",
    "```Python``` es opensource, esto signifíca que cualquiera puede contruibuir a su desarrollo y divulgación."
   ]
  },
  {
   "cell_type": "markdown",
   "metadata": {},
   "source": [
    "## Fundamentos de Python"
   ]
  },
  {
   "cell_type": "code",
   "execution_count": 1,
   "metadata": {
    "collapsed": true
   },
   "outputs": [],
   "source": [
    "# Primer Comentario : los comentarios se anteponen con \"#\""
   ]
  },
  {
   "cell_type": "code",
   "execution_count": 2,
   "metadata": {},
   "outputs": [
    {
     "name": "stdout",
     "output_type": "stream",
     "text": [
      "Hola Mundo !!!\n"
     ]
    }
   ],
   "source": [
    "# El clasico \"Hola Mundo\"\n",
    "print(\"Hola Mundo !!!\")"
   ]
  },
  {
   "cell_type": "code",
   "execution_count": 3,
   "metadata": {},
   "outputs": [
    {
     "name": "stdout",
     "output_type": "stream",
     "text": [
      "Hola Mundo !!!\n"
     ]
    }
   ],
   "source": [
    "# Almaceno el texto en una variable llamada \"mensaje\"\n",
    "mensaje = \"Hola Mundo !!!\"\n",
    "print(mensaje)"
   ]
  },
  {
   "cell_type": "code",
   "execution_count": 4,
   "metadata": {},
   "outputs": [
    {
     "name": "stdout",
     "output_type": "stream",
     "text": [
      "<class 'str'>\n"
     ]
    }
   ],
   "source": [
    "# Que tipo de variables es \"mensaje\"\n",
    "print(type(mensaje))"
   ]
  },
  {
   "cell_type": "markdown",
   "metadata": {},
   "source": [
    "Cualquier sequencia no-numérica o caracter encrustado entre ' ' o \" \"\n",
    "es considerado como un **string**"
   ]
  },
  {
   "cell_type": "markdown",
   "metadata": {},
   "source": [
    "### Tipos de Variables en Python\n",
    "<tr>\n",
    "<td><img src=\"../figs/types_var.png\" align=\"middle\" style=\"width: 500px;\"/> </td>\n",
    "</tr>"
   ]
  },
  {
   "cell_type": "code",
   "execution_count": 5,
   "metadata": {
    "collapsed": true
   },
   "outputs": [],
   "source": [
    "# Declaro Valor para mis variables\n",
    "x = 2\n",
    "y = 9\n",
    "z = 13"
   ]
  },
  {
   "cell_type": "markdown",
   "metadata": {},
   "source": [
    "### Operadores Básicos en Python\n",
    "<tr>\n",
    "<td><img src=\"../figs/basic-operators.png\" align=\"middle\" style=\"width: 500px;\"/> </td>\n",
    "</tr>\n",
    "\n",
    "**Observacion:** En el caso de las potencias, a menudo, en los softwares clásicos como ```Matlab```, ```R```, ```Scilab```, ```Mathematica```, el símbolo de potencia se escribe \"^\", sin embargo, en ```Python```, el simbolo es \"$**$\""
   ]
  },
  {
   "cell_type": "code",
   "execution_count": 6,
   "metadata": {
    "collapsed": true
   },
   "outputs": [],
   "source": [
    "# Creo Otras variables en relacion a las ya declaradas previamente\n",
    "a = x + y\n",
    "b = (x-3*x)*7.32+x/y\n",
    "c = y**(1/x)"
   ]
  },
  {
   "cell_type": "code",
   "execution_count": 7,
   "metadata": {},
   "outputs": [
    {
     "name": "stdout",
     "output_type": "stream",
     "text": [
      "El valor de a = 11\n",
      "El valor de b = -29.05777777777778\n",
      "El valor de c = 3.0\n"
     ]
    }
   ],
   "source": [
    "print(\"El valor de a =\", a)\n",
    "print(\"El valor de b =\", b)\n",
    "print(\"El valor de c =\", c)"
   ]
  },
  {
   "cell_type": "code",
   "execution_count": 8,
   "metadata": {},
   "outputs": [
    {
     "name": "stdout",
     "output_type": "stream",
     "text": [
      "<class 'int'> <class 'float'> <class 'float'>\n"
     ]
    }
   ],
   "source": [
    "# Tipo de Variables\n",
    "print(type(a),type(b),type(c))"
   ]
  },
  {
   "cell_type": "code",
   "execution_count": 9,
   "metadata": {},
   "outputs": [
    {
     "data": {
      "text/plain": [
       "308712904366595890319978599341504655567257431166409329421135089732346509723631627417356013073234099809467"
      ]
     },
     "execution_count": 9,
     "metadata": {},
     "output_type": "execute_result"
    }
   ],
   "source": [
    "p = 219\n",
    "r = 3**p\n",
    "r"
   ]
  },
  {
   "cell_type": "code",
   "execution_count": 10,
   "metadata": {},
   "outputs": [
    {
     "name": "stdout",
     "output_type": "stream",
     "text": [
      "<class 'int'>\n"
     ]
    }
   ],
   "source": [
    "print(type(r))"
   ]
  },
  {
   "cell_type": "markdown",
   "metadata": {},
   "source": [
    "### Strings\n",
    "Un string, es una lista de caractéres ordenados. Las cadenas o strings, pueden tener espacios o caractéres que pueden ser tanto visibles, como no visibles ante el lector."
   ]
  },
  {
   "cell_type": "code",
   "execution_count": 11,
   "metadata": {},
   "outputs": [
    {
     "name": "stdout",
     "output_type": "stream",
     "text": [
      "a\n",
      "g\n",
      "n\n"
     ]
    }
   ],
   "source": [
    "primer_nombre = \"Ragnar\"\n",
    "print(primer_nombre[1])\n",
    "print(primer_nombre[2])\n",
    "print(primer_nombre[3])"
   ]
  },
  {
   "cell_type": "code",
   "execution_count": 12,
   "metadata": {},
   "outputs": [
    {
     "name": "stdout",
     "output_type": "stream",
     "text": [
      "Ragnar\n",
      "Ragnar\n",
      "ragnar\n",
      "RAGNAR\n"
     ]
    }
   ],
   "source": [
    "primer_nombre = \"Ragnar\"\n",
    "print(primer_nombre)\n",
    "print(primer_nombre.title()) # Otra forma de presentar el string \n",
    "print(primer_nombre.lower()) # Muestra el string en minuscula\n",
    "print(primer_nombre.upper()) # Muestra el string en mayuscula"
   ]
  },
  {
   "cell_type": "markdown",
   "metadata": {},
   "source": [
    "**Concatenacion de Strings**"
   ]
  },
  {
   "cell_type": "code",
   "execution_count": 13,
   "metadata": {},
   "outputs": [
    {
     "name": "stdout",
     "output_type": "stream",
     "text": [
      "Ragnar Lothbrock\n"
     ]
    }
   ],
   "source": [
    "primer_nombre = \"Ragnar\"\n",
    "primer_apellido = \"Lothbrock\"\n",
    "nombre_completo = primer_nombre + ' ' + primer_apellido\n",
    "print(nombre_completo)"
   ]
  },
  {
   "cell_type": "code",
   "execution_count": 14,
   "metadata": {},
   "outputs": [
    {
     "name": "stdout",
     "output_type": "stream",
     "text": [
      "Ragnar Lothbrock fue un gran Rey Vikingo\n"
     ]
    }
   ],
   "source": [
    "frase = nombre_completo.title() + ' ' + 'fue un gran Rey Vikingo'\n",
    "print(frase)"
   ]
  },
  {
   "cell_type": "markdown",
   "metadata": {},
   "source": [
    "**Espacios en blanco** se refieren a caractéres que ante el lector, son invisibles de leer. La mayor parte de ellos, son espacios, tabulaciones o nuevas lineas."
   ]
  },
  {
   "cell_type": "code",
   "execution_count": 15,
   "metadata": {},
   "outputs": [
    {
     "name": "stdout",
     "output_type": "stream",
     "text": [
      "Hola Mundo!\n",
      "\tHola Mundo\n",
      "Hola \tMundo\n"
     ]
    }
   ],
   "source": [
    "print(\"Hola Mundo!\")\n",
    "print(\"\\tHola Mundo\")\n",
    "print(\"Hola \\tMundo\")"
   ]
  },
  {
   "cell_type": "markdown",
   "metadata": {},
   "source": [
    "La combinacion \"\\n\" genera una nueva linea en un string. Se puede usar en cualquier lugar del string."
   ]
  },
  {
   "cell_type": "code",
   "execution_count": 16,
   "metadata": {},
   "outputs": [
    {
     "name": "stdout",
     "output_type": "stream",
     "text": [
      "Hola Mundo\n",
      "Hola Mundo\n",
      "\n",
      "\n",
      "Hola Mundo\n",
      "\n",
      "\n",
      "\n",
      "Hola Mundo\n"
     ]
    }
   ],
   "source": [
    "print(\"Hola Mundo\")\n",
    "print(\"Hola Mundo\\n\") \n",
    "print(\"\\nHola Mundo\")\n",
    "print(\"\\n\\n\\nHola Mundo\")"
   ]
  },
  {
   "cell_type": "markdown",
   "metadata": {},
   "source": [
    "Se pueden borrar espacios en blanco desde la izquiera, derecha o ambos lados de un string característico."
   ]
  },
  {
   "cell_type": "code",
   "execution_count": 17,
   "metadata": {},
   "outputs": [
    {
     "name": "stdout",
     "output_type": "stream",
     "text": [
      "Ragnar \n",
      " Ragnar\n",
      "Ragnar\n"
     ]
    }
   ],
   "source": [
    "primer_nombre = \" Ragnar \" \n",
    "print(primer_nombre.lstrip()) # elimino espacios de la izquierda\n",
    "print(primer_nombre.rstrip()) # elimino espacios de la derecha \n",
    "print(primer_nombre.strip())  # elimino espacios de ambos lados"
   ]
  },
  {
   "cell_type": "markdown",
   "metadata": {},
   "source": [
    "A simple vista, es difícil ver que hace realmente, veamos con el siguiente ejemplo si se disipan dudas al respecto:"
   ]
  },
  {
   "cell_type": "code",
   "execution_count": 18,
   "metadata": {},
   "outputs": [
    {
     "name": "stdout",
     "output_type": "stream",
     "text": [
      "-Ragnar -\n",
      "- Ragnar-\n",
      "-Ragnar-\n"
     ]
    }
   ],
   "source": [
    "primer_nombre = \" Ragnar \"\n",
    "print(\"-\" + primer_nombre.lstrip() + \"-\")\n",
    "print(\"-\" + primer_nombre.rstrip() + \"-\")\n",
    "print(\"-\" + primer_nombre.strip() + \"-\")"
   ]
  },
  {
   "cell_type": "markdown",
   "metadata": {},
   "source": [
    "### Listas y Tuplas\n",
    "Una lista, es una colección de ítems que están almacenados en una variable. Los ítems pueden estar relacionados de alguna forma, pero no hay restricción en el almacenamiento. "
   ]
  },
  {
   "cell_type": "code",
   "execution_count": 19,
   "metadata": {},
   "outputs": [
    {
     "name": "stdout",
     "output_type": "stream",
     "text": [
      "Hola, Ragnar!!!\n",
      "Hola, Bjorn!!!\n",
      "Hola, Rollo!!!\n"
     ]
    }
   ],
   "source": [
    "nombres = [\"Ragnar\", 'Bjorn', \"Rollo\"]\n",
    "for nombres in nombres:\n",
    "    print(\"Hola, \" + nombres.title() + \"!!!\")"
   ]
  },
  {
   "cell_type": "markdown",
   "metadata": {},
   "source": [
    "Para acceder a un elemento o ítem de una lista, basta con anteponer \"[ ]\", ejemplo:"
   ]
  },
  {
   "cell_type": "code",
   "execution_count": 20,
   "metadata": {},
   "outputs": [
    {
     "name": "stdout",
     "output_type": "stream",
     "text": [
      "Ragnar\n"
     ]
    }
   ],
   "source": [
    "nombres = [\"Ragnar\", 'Bjorn', \"Rollo\"]\n",
    "nombre = nombres[0]\n",
    "print(nombre.title())"
   ]
  },
  {
   "cell_type": "code",
   "execution_count": 21,
   "metadata": {},
   "outputs": [
    {
     "name": "stdout",
     "output_type": "stream",
     "text": [
      "Monty Python\n"
     ]
    }
   ],
   "source": [
    "texto = \"Monty Python\"\n",
    "print(texto)"
   ]
  },
  {
   "cell_type": "markdown",
   "metadata": {},
   "source": [
    "<tr>\n",
    "<td><img src=\"../figs/list_index.png\" align=\"middle\" style=\"width: 500px;\"/> </td>\n",
    "</tr>"
   ]
  },
  {
   "cell_type": "code",
   "execution_count": 22,
   "metadata": {},
   "outputs": [
    {
     "name": "stdout",
     "output_type": "stream",
     "text": [
      "M\n",
      "o\n",
      "n\n",
      "t\n",
      "y\n"
     ]
    }
   ],
   "source": [
    "print(texto[0])\n",
    "print(texto[1])\n",
    "print(texto[2])\n",
    "print(texto[3])\n",
    "print(texto[4])"
   ]
  },
  {
   "cell_type": "code",
   "execution_count": 23,
   "metadata": {},
   "outputs": [
    {
     "name": "stdout",
     "output_type": "stream",
     "text": [
      "Pyth\n"
     ]
    }
   ],
   "source": [
    "print(texto[6:10])"
   ]
  },
  {
   "cell_type": "markdown",
   "metadata": {},
   "source": [
    "### Enumerar Listas\n",
    "Cuando se está recorriendo una lista, es posible que se desee conocer el índice del elemento actual. Siempre se puede usar la sintaxis ```list.index(value)```, pero hay una manera más simple. La función ```enumerate()``` rastrea el índice de cada elemento ya que recorre la lista:"
   ]
  },
  {
   "cell_type": "code",
   "execution_count": 24,
   "metadata": {},
   "outputs": [
    {
     "name": "stdout",
     "output_type": "stream",
     "text": [
      "Nombres de Vikingos:\n",
      "\n",
      "Posicion: 0 nombre: Ragnar\n",
      "Posicion: 1 nombre: Bjorn\n",
      "Posicion: 2 nombre: Rollo\n",
      "Posicion: 3 nombre: Torstein\n",
      "Posicion: 4 nombre: Harald\n"
     ]
    }
   ],
   "source": [
    "nombres = [\"Ragnar\", 'Bjorn', \"Rollo\", \"Torstein\", \"Harald\"]\n",
    "print(\"Nombres de Vikingos:\\n\")\n",
    "for index, nombre in enumerate(nombres):\n",
    "    posicion = str(index)\n",
    "    print(\"Posicion: \" + posicion + \" nombre: \" + nombre.title())"
   ]
  },
  {
   "cell_type": "markdown",
   "metadata": {},
   "source": [
    "Los índices, siempre comienzan en 0, asi que, ahora, forzaremos a que el índice comienze de 1."
   ]
  },
  {
   "cell_type": "code",
   "execution_count": 25,
   "metadata": {},
   "outputs": [
    {
     "name": "stdout",
     "output_type": "stream",
     "text": [
      "Nombres de Vikingos:\n",
      "\n",
      "Posicion: 1 nombre: Ragnar\n",
      "Posicion: 2 nombre: Bjorn\n",
      "Posicion: 3 nombre: Rollo\n",
      "Posicion: 4 nombre: Torstein\n",
      "Posicion: 5 nombre: Harald\n"
     ]
    }
   ],
   "source": [
    "nombres = [\"Ragnar\", 'Bjorn', \"Rollo\", \"Torstein\", \"Harald\"]\n",
    "print(\"Nombres de Vikingos:\\n\")\n",
    "for index, nombre in enumerate(nombres):\n",
    "    posicion = str(index + 1) \n",
    "    print(\"Posicion: \" + posicion + \" nombre: \" + nombre.title())"
   ]
  },
  {
   "cell_type": "markdown",
   "metadata": {},
   "source": [
    "También se pueden adherir ítems a una lista utilizando la función ```append()```. Ésta instrucción adiciona un nuevo ítem al final de la lista previamente declarada."
   ]
  },
  {
   "cell_type": "code",
   "execution_count": 26,
   "metadata": {},
   "outputs": [
    {
     "name": "stdout",
     "output_type": "stream",
     "text": [
      "Ragnar es vikingo\n",
      "Bjorn es vikingo\n",
      "Rollo es vikingo\n",
      "Torstein es vikingo\n",
      "Harald es vikingo\n",
      "Ivar es vikingo\n"
     ]
    }
   ],
   "source": [
    "nombres = [\"Ragnar\", 'Bjorn', \"Rollo\", \"Torstein\", \"Harald\"]\n",
    "nombres.append(\"Ivar\")\n",
    "for nombre in nombres:\n",
    "    print(nombre.title() + \" es vikingo\")"
   ]
  },
  {
   "cell_type": "markdown",
   "metadata": {},
   "source": [
    "Ahora, si queremos insertar un ítem en cierta posición de la lista, se debe utilizar la función ```insert()```. Con ésta, especificamos la posición del ítem."
   ]
  },
  {
   "cell_type": "code",
   "execution_count": 27,
   "metadata": {},
   "outputs": [
    {
     "name": "stdout",
     "output_type": "stream",
     "text": [
      "['Ragnar', 'Bjorn', 'Ivar', 'Rollo', 'Torstein', 'Harald']\n"
     ]
    }
   ],
   "source": [
    "nombres = [\"Ragnar\", 'Bjorn', \"Rollo\", \"Torstein\", \"Harald\"]\n",
    "nombres.insert(2,\"Ivar\")\n",
    "print(nombres)"
   ]
  },
  {
   "cell_type": "markdown",
   "metadata": {},
   "source": [
    "### Creación de Listas Vacías"
   ]
  },
  {
   "cell_type": "markdown",
   "metadata": {},
   "source": [
    "Ahora que sabemos como adherir ítem a una lista despues de ser creada, \n",
    "ahora usaremos listas mas dinámicas."
   ]
  },
  {
   "cell_type": "code",
   "execution_count": 28,
   "metadata": {},
   "outputs": [
    {
     "name": "stdout",
     "output_type": "stream",
     "text": [
      "Bienvenidos:\n",
      "\n",
      "Posicion: 0 nombre: Ragnar\n",
      "Posicion: 1 nombre: Rollo\n",
      "Posicion: 2 nombre: Bjorn\n",
      "Posicion: 3 nombre: Harald\n"
     ]
    }
   ],
   "source": [
    "# Creacion de un lista vacia\n",
    "nombres = []\n",
    "## Adhiero items a la lista nombres\n",
    "nombres.append('Ragnar')\n",
    "nombres.append('Rollo')\n",
    "nombres.append('Bjorn')\n",
    "nombres.append('Harald')\n",
    "# Muestro Todos los nombres creados y posiciones en la lista\n",
    "print(\"Bienvenidos:\\n\")\n",
    "for index, nombre in enumerate(nombres):\n",
    "    posicion = str(index)\n",
    "    print(\"Posicion: \" +  posicion + \" nombre: \" + nombre.title())   "
   ]
  },
  {
   "cell_type": "markdown",
   "metadata": {},
   "source": [
    "Si adherimos más items a la lista creada en ciertas posiciones, tendremos lo siguiente:"
   ]
  },
  {
   "cell_type": "code",
   "execution_count": 29,
   "metadata": {},
   "outputs": [
    {
     "name": "stdout",
     "output_type": "stream",
     "text": [
      "Bienvenidos:\n",
      "\n",
      "Posicion: 0 nombre: Ragnar\n",
      "Posicion: 1 nombre: Rollo\n",
      "Posicion: 2 nombre: Sigurd\n",
      "Posicion: 3 nombre: Ube\n",
      "Posicion: 4 nombre: Bjorn\n",
      "Posicion: 5 nombre: Harald\n"
     ]
    }
   ],
   "source": [
    "nombres.insert(2, \"Sigurd\")\n",
    "nombres.insert(3, \"Ube\")\n",
    "# Muestro Todos los nombres creados y posiciones en la lista\n",
    "print(\"Bienvenidos:\\n\")\n",
    "for index, nombre in enumerate(nombres):\n",
    "    posicion = str(index)\n",
    "    print(\"Posicion: \" +  posicion + \" nombre: \" + nombre.title()) "
   ]
  },
  {
   "cell_type": "markdown",
   "metadata": {},
   "source": [
    "### Orden en una Lista\n",
    "Siempre que consideremos ordenar una lista, se debe tener en cuenta que no se puede recuperar el orden original. La función ```sorted()``` permite ordenar una lista. También acepta el argumento ```reverse=True```"
   ]
  },
  {
   "cell_type": "code",
   "execution_count": 30,
   "metadata": {},
   "outputs": [
    {
     "name": "stdout",
     "output_type": "stream",
     "text": [
      "Los nombres ordenados en orden alfabetico son: \n",
      "\n",
      "Bjorn\n",
      "Harald\n",
      "Ragnar\n",
      "Rollo\n",
      "Torstein\n"
     ]
    }
   ],
   "source": [
    "nombres = [\"Ragnar\", 'Bjorn', \"Rollo\", \"Torstein\", \"Harald\"]\n",
    "print(\"Los nombres ordenados en orden alfabetico son: \\n\")\n",
    "for nombre in sorted(nombres):\n",
    "    print(nombre.title())"
   ]
  },
  {
   "cell_type": "code",
   "execution_count": 31,
   "metadata": {},
   "outputs": [
    {
     "name": "stdout",
     "output_type": "stream",
     "text": [
      "Torstein\n",
      "Rollo\n",
      "Ragnar\n",
      "Harald\n",
      "Bjorn\n"
     ]
    }
   ],
   "source": [
    "for nombre in sorted(nombres, reverse=True):\n",
    "    print(nombre.title())"
   ]
  },
  {
   "cell_type": "code",
   "execution_count": 32,
   "metadata": {},
   "outputs": [
    {
     "name": "stdout",
     "output_type": "stream",
     "text": [
      "Bjorn\n",
      "Harald\n",
      "Ragnar\n",
      "Rollo\n",
      "Torstein\n"
     ]
    }
   ],
   "source": [
    "for nombre in sorted(nombres):\n",
    "    print(nombre.title())"
   ]
  },
  {
   "cell_type": "markdown",
   "metadata": {},
   "source": [
    "Uno puede encontrar el largo de la lista definida utilizando la función \n",
    "```len()```, ejemplo."
   ]
  },
  {
   "cell_type": "code",
   "execution_count": 33,
   "metadata": {},
   "outputs": [
    {
     "name": "stdout",
     "output_type": "stream",
     "text": [
      "5\n"
     ]
    }
   ],
   "source": [
    "largo_lista = len(nombres)\n",
    "print(largo_lista)"
   ]
  },
  {
   "cell_type": "markdown",
   "metadata": {},
   "source": [
    "Un ejemplo mas elaborado utilizando lo que hemos aprendido hasta ahora:"
   ]
  },
  {
   "cell_type": "code",
   "execution_count": 34,
   "metadata": {},
   "outputs": [
    {
     "name": "stdout",
     "output_type": "stream",
     "text": [
      "Hasta el momento, tengo 4 preparados !!!\n",
      "Mis Vikingos son: \n",
      "Posicion: 0 nombre: Lagherta\n",
      "Posicion: 1 nombre: Hvitserk\n",
      "Posicion: 2 nombre: Atelstan\n",
      "Posicion: 3 nombre: Torvi\n"
     ]
    }
   ],
   "source": [
    "vikingos = []\n",
    "vikingos.append(\"lagherta\")\n",
    "vikingos.append(\"Hvitserk\")\n",
    "vikingos.append(\"Atelstan\")\n",
    "vikingos.append(\"Torvi\")\n",
    "largo_vikingos = len(vikingos)\n",
    "print(\"Hasta el momento, tengo \" + str(largo_vikingos) + \" preparados !!!\")\n",
    "print(\"Mis Vikingos son: \")\n",
    "for index, nombre in enumerate(vikingos):\n",
    "    posicion = str(index)\n",
    "    print(\"Posicion: \" +  posicion + \" nombre: \" + nombre.title()) "
   ]
  },
  {
   "cell_type": "code",
   "execution_count": 35,
   "metadata": {},
   "outputs": [
    {
     "name": "stdout",
     "output_type": "stream",
     "text": [
      "Ahora, tengo 7 preparados !!!\n",
      "Mis Vikingos son: \n",
      "Posicion: 0 nombre: Lagherta\n",
      "Posicion: 1 nombre: Hvitserk\n",
      "Posicion: 2 nombre: Atelstan\n",
      "Posicion: 3 nombre: Torvi\n",
      "Posicion: 4 nombre: Floki\n",
      "Posicion: 5 nombre: Guthrum\n",
      "Posicion: 6 nombre: Jarl Borg\n"
     ]
    }
   ],
   "source": [
    "vikingos.append(\"Floki\")\n",
    "vikingos.append(\"Guthrum\")\n",
    "vikingos.append(\"Jarl Borg\")\n",
    "largo_vikingos = len(vikingos)\n",
    "print(\"Ahora, tengo \" + str(largo_vikingos) + \" preparados !!!\") \n",
    "print(\"Mis Vikingos son: \")\n",
    "for index, nombre in enumerate(vikingos):\n",
    "    posicion = str(index)\n",
    "    print(\"Posicion: \" +  posicion + \" nombre: \" + nombre.title()) "
   ]
  },
  {
   "cell_type": "markdown",
   "metadata": {},
   "source": [
    "Para remover ítems de una lista, basta con usar la funcion ```remove()```. Por ejemplo:"
   ]
  },
  {
   "cell_type": "code",
   "execution_count": 36,
   "metadata": {},
   "outputs": [
    {
     "name": "stdout",
     "output_type": "stream",
     "text": [
      "['lagherta', 'Hvitserk', 'Atelstan', 'Torvi', 'Floki', 'Guthrum']\n"
     ]
    }
   ],
   "source": [
    "vikingos.remove(\"Jarl Borg\")\n",
    "print(vikingos)"
   ]
  },
  {
   "cell_type": "markdown",
   "metadata": {},
   "source": [
    "### Copiar Listas \n",
    "Para crear una copia, basta usar el signo de división \":\", omitiendo tanto el índice inicial, como el final. Esto hace que la copia, sea un todo, desde el primer elemento hasta el último, que es la lista completa."
   ]
  },
  {
   "cell_type": "code",
   "execution_count": 37,
   "metadata": {},
   "outputs": [
    {
     "name": "stdout",
     "output_type": "stream",
     "text": [
      "Los copia completa es:\n",
      "\t ['Ragnar', 'Bjorn', 'Rollo', 'Torstein', 'Harald']\n"
     ]
    }
   ],
   "source": [
    "nombres = [\"Ragnar\", 'Bjorn', \"Rollo\", \"Torstein\", \"Harald\"]\n",
    "copia_nombres = nombres[:]\n",
    "print(\"Los copia completa es:\\n\\t\", copia_nombres)"
   ]
  },
  {
   "cell_type": "markdown",
   "metadata": {},
   "source": [
    "### Reemplazo de Substrings\n",
    "Puede usar la función ```replace()``` para reemplazar cualquier substring con otro substring. Para usar la función ```replace()```, proporcione el substring que desea reemplazar y luego el substring con la que desea reemplazarla. También necesita almacenar el nuevo string, ya sea en la misma variable de string o en una nueva variable."
   ]
  },
  {
   "cell_type": "code",
   "execution_count": 38,
   "metadata": {},
   "outputs": [
    {
     "name": "stdout",
     "output_type": "stream",
     "text": [
      "Hay una fuerza motriz mas extraordinaria que el vapor, la electricidad y la energia atomica; la voluntad\n"
     ]
    }
   ],
   "source": [
    "frase = \"Hay una fuerza motriz mas poderosa que el vapor, la electricidad y la \\\n",
    "energia atomica; la voluntad\"\n",
    "frase = frase.replace(\"poderosa\", \"extraordinaria\")\n",
    "print(frase)"
   ]
  },
  {
   "cell_type": "markdown",
   "metadata": {},
   "source": [
    "### Contado de Substrings\n",
    "Si se quiere saber la cantidad de veces en que aparece un substring dentro de un string, se puede utilizar la función ```count()```, por ejemplo:"
   ]
  },
  {
   "cell_type": "code",
   "execution_count": 39,
   "metadata": {},
   "outputs": [
    {
     "name": "stdout",
     "output_type": "stream",
     "text": [
      "1\n"
     ]
    }
   ],
   "source": [
    "numero_string = frase.count(\"vapor\")\n",
    "print(numero_string)"
   ]
  },
  {
   "cell_type": "markdown",
   "metadata": {},
   "source": [
    "### Particionado Strings\n",
    "Los strings se pueden dividir en un conjunto de substrings cuando están separadas por un carácter repetido. Si una cadena consta de una oración simple, la cadena se puede dividir en función de espacios. La función ```split()``` devuelve una lista de substrings. La función ```split()``` toma un argumento, el carácter que separa las partes del string."
   ]
  },
  {
   "cell_type": "code",
   "execution_count": 40,
   "metadata": {},
   "outputs": [
    {
     "name": "stdout",
     "output_type": "stream",
     "text": [
      "['Hay', 'una', 'fuerza', 'motriz', 'mas', 'extraordinaria', 'que', 'el', 'vapor,', 'la', 'electricidad', 'y', 'la', 'energia', 'atomica;', 'la', 'voluntad']\n"
     ]
    }
   ],
   "source": [
    "palabras = frase.split(\" \")\n",
    "print(palabras)"
   ]
  },
  {
   "cell_type": "markdown",
   "metadata": {},
   "source": [
    "### Lista de Números\n",
    "No hay nada especial acerca de las listas de números, pero hay algunas funciones que se pueden usar para hacer que trabajar con listas numéricas sea lo más eficiente. Construyamos una lista de los 10 primeros numeros."
   ]
  },
  {
   "cell_type": "code",
   "execution_count": 41,
   "metadata": {},
   "outputs": [
    {
     "name": "stdout",
     "output_type": "stream",
     "text": [
      "1\n",
      "2\n",
      "3\n",
      "4\n",
      "5\n",
      "6\n",
      "7\n",
      "8\n",
      "9\n",
      "10\n"
     ]
    }
   ],
   "source": [
    "numeros = [1, 2, 3,4,5,6,7,8,9,10]\n",
    "for i in numeros:\n",
    "    print(i)"
   ]
  },
  {
   "cell_type": "markdown",
   "metadata": {},
   "source": [
    "Al parecer, funciona, pero no es muy eficinte al querer trabajar con un conjunto de números\n",
    "más grandes. La función ```range()``` nos ayuda a generar largas listas de números. "
   ]
  },
  {
   "cell_type": "code",
   "execution_count": 42,
   "metadata": {},
   "outputs": [
    {
     "name": "stdout",
     "output_type": "stream",
     "text": [
      "1\n",
      "2\n",
      "3\n",
      "4\n",
      "5\n",
      "6\n",
      "7\n",
      "8\n",
      "9\n",
      "10\n"
     ]
    }
   ],
   "source": [
    "for i in range(1,11):\n",
    "    print(i)"
   ]
  },
  {
   "cell_type": "code",
   "execution_count": 43,
   "metadata": {},
   "outputs": [
    {
     "name": "stdout",
     "output_type": "stream",
     "text": [
      "1\n",
      "3\n",
      "5\n",
      "7\n",
      "9\n",
      "11\n",
      "13\n",
      "15\n",
      "17\n",
      "19\n"
     ]
    }
   ],
   "source": [
    "for i in range(1,21,2):\n",
    "    print(i)"
   ]
  },
  {
   "cell_type": "markdown",
   "metadata": {},
   "source": [
    "Si queremos guardar estos números, en una lista, basta con usar la función ```list()```"
   ]
  },
  {
   "cell_type": "code",
   "execution_count": 44,
   "metadata": {},
   "outputs": [
    {
     "name": "stdout",
     "output_type": "stream",
     "text": [
      "[1, 2, 3, 4, 5, 6, 7, 8, 9, 10]\n"
     ]
    }
   ],
   "source": [
    "numeros = list(range(1,11))\n",
    "print(numeros)"
   ]
  },
  {
   "cell_type": "markdown",
   "metadata": {},
   "source": [
    "Esto es muy poderoso; ahora podemos crear una lista de los primeros millones de números, tan fácilmente como hicimos una lista de los primeros diez números anteriormente. No tiene sentido imprimir el millón de números aquí, pero podemos mostrar que la lista realmente tiene un millón de elementos, además, imprimir los últimos diez elementos para mostrar que la lista es correcta."
   ]
  },
  {
   "cell_type": "code",
   "execution_count": 45,
   "metadata": {},
   "outputs": [
    {
     "name": "stdout",
     "output_type": "stream",
     "text": [
      "La lista 'numeros' tiene 1000000 numeros \n"
     ]
    }
   ],
   "source": [
    "numeros = list(range(1,1000001))\n",
    "print(\"La lista 'numeros' tiene \" + str(len(numeros)) + \" numeros \")"
   ]
  },
  {
   "cell_type": "code",
   "execution_count": 46,
   "metadata": {},
   "outputs": [
    {
     "name": "stdout",
     "output_type": "stream",
     "text": [
      "\n",
      "Los ultimos 10 numeros en la lista son: \n",
      "999991\n",
      "999992\n",
      "999993\n",
      "999994\n",
      "999995\n",
      "999996\n",
      "999997\n",
      "999998\n",
      "999999\n",
      "1000000\n"
     ]
    }
   ],
   "source": [
    "print(\"\\nLos ultimos 10 numeros en la lista son: \")\n",
    "for i in numeros[-10:]:\n",
    "    print(i)"
   ]
  },
  {
   "cell_type": "markdown",
   "metadata": {},
   "source": [
    "###  Funciones min(), max(), sum()\n",
    "Hay tres funciones que puede usar fácilmente con listas numéricas. Como era de esperar, la función ```min()``` devuelve el número más pequeño de la lista, la función ```max()``` devuelve el número más grande de la lista y la función ```sum()``` devuelve el total de todos los números en la lista."
   ]
  },
  {
   "cell_type": "code",
   "execution_count": 47,
   "metadata": {
    "scrolled": true
   },
   "outputs": [
    {
     "name": "stdout",
     "output_type": "stream",
     "text": [
      "El mas joven tiene 11 años de edad\n",
      "El mas adulto tiene 38 años de edad\n",
      "La suma total de edades es  149 años\n"
     ]
    }
   ],
   "source": [
    "edades = [23, 16, 14, 28, 19, 11, 38]\n",
    "joven  = min(edades)\n",
    "adulto = max(edades)\n",
    "total_edades = sum(edades)\n",
    "print(\"El mas joven tiene \" + str(joven) + \" años de edad\")\n",
    "print(\"El mas adulto tiene \" + str(adulto) + \" años de edad\")\n",
    "print(\"La suma total de edades es  \" + str(total_edades) + \" años\")"
   ]
  },
  {
   "cell_type": "markdown",
   "metadata": {},
   "source": [
    "### Funciones\n",
    "<img style=\"float: right;\" src=\"../figs/function.jpg\">\n",
    "Las funciones son un conjunto de acciones que agrupamos juntas y le damos un nombre. Ya ha utilizado una serie de funciones del lenguaje Python central, como ```string.title()``` y ```list.sort()```. Podemos definir nuestras propias funciones, lo que nos permite \"enseñar\" el nuevo comportamiento de ```Python```.\n",
    "\n",
    "En ```Python```, la definición de funciones se realiza mediante la instrucción ```def``` más un nombre de función descriptivo -para el cuál, aplican las mismas reglas que para el nombre de las variables- seguido de paréntesis de apertura y cierre. Como toda estructura de control en Python, la definición de la función finaliza con dos puntos (:)"
   ]
  },
  {
   "cell_type": "code",
   "execution_count": 48,
   "metadata": {
    "collapsed": true
   },
   "outputs": [],
   "source": [
    "# Mi primera funcion\n",
    "def mi_funcion():\n",
    "    print(\"Hola Mundo!!!\")"
   ]
  },
  {
   "cell_type": "code",
   "execution_count": 49,
   "metadata": {},
   "outputs": [
    {
     "name": "stdout",
     "output_type": "stream",
     "text": [
      "Hola Mundo!!!\n"
     ]
    }
   ],
   "source": [
    "mi_funcion()"
   ]
  },
  {
   "cell_type": "markdown",
   "metadata": {},
   "source": [
    "Función que dado un apellido y un nombre, entrega la concatenación de ambos como un nombre completo"
   ]
  },
  {
   "cell_type": "code",
   "execution_count": 50,
   "metadata": {
    "collapsed": true
   },
   "outputs": [],
   "source": [
    "def funcion_nombres(nombre,apellido):\n",
    "    primer_nombre = nombre\n",
    "    primer_apellido = apellido\n",
    "    nombre_completo = primer_nombre + ' ' + primer_apellido\n",
    "    print(nombre_completo)"
   ]
  },
  {
   "cell_type": "markdown",
   "metadata": {},
   "source": [
    "Invoca la función:"
   ]
  },
  {
   "cell_type": "code",
   "execution_count": 51,
   "metadata": {},
   "outputs": [
    {
     "name": "stdout",
     "output_type": "stream",
     "text": [
      "Ragnar Lothbrock\n"
     ]
    }
   ],
   "source": [
    "funcion_nombres(\"Ragnar\",\"Lothbrock\")"
   ]
  },
  {
   "cell_type": "markdown",
   "metadata": {},
   "source": [
    "Esta función, toma una lista de nombres como primer argumento, y los imprime con un mensaje como segundo argumento."
   ]
  },
  {
   "cell_type": "code",
   "execution_count": 52,
   "metadata": {
    "collapsed": true
   },
   "outputs": [],
   "source": [
    "def muestra_nombres(nombres, mensaje):\n",
    "    print(mensaje)\n",
    "    for nombre in nombres:\n",
    "        print(nombre.title())"
   ]
  },
  {
   "cell_type": "code",
   "execution_count": 53,
   "metadata": {},
   "outputs": [
    {
     "name": "stdout",
     "output_type": "stream",
     "text": [
      "\n",
      "los nombres son.\n",
      "Bjorn\n",
      "Harald\n",
      "Ragnar\n",
      "Rollo\n",
      "Torstein\n"
     ]
    }
   ],
   "source": [
    "nombres = [\"Ragnar\", 'Bjorn', \"Rollo\", \"Torstein\", \"Harald\"]\n",
    "nombres.sort()\n",
    "muestra_nombres(nombres,\"\\nlos nombres son.\")"
   ]
  },
  {
   "cell_type": "markdown",
   "metadata": {},
   "source": [
    "### Sentencias if-elif-else\n",
    "Una sentencia ```if``` testea una condición que responde a otra condición (valga la redundancia ...). Si la condición es verdadera, entonces se lleva a cabo cualquier instrucción o acción que se enumere a continuación. "
   ]
  },
  {
   "cell_type": "code",
   "execution_count": 54,
   "metadata": {},
   "outputs": [
    {
     "name": "stdout",
     "output_type": "stream",
     "text": [
      "Ragnar es Rey de Kategat !\n",
      "No lo es Bjorn\n",
      "No lo es Rollo\n",
      "No lo es Torstein\n",
      "No lo es Harald\n"
     ]
    }
   ],
   "source": [
    "nombres = [\"Ragnar\", 'Bjorn', \"Rollo\", \"Torstein\", \"Harald\"]\n",
    "rey_kategat = \"Ragnar\"\n",
    "for nombre in nombres:\n",
    "    if nombre == rey_kategat:\n",
    "        print(\"%s es Rey de Kategat !\" % nombre.title())\n",
    "    else:\n",
    "        print(\"No lo es %s\" % nombre.title())"
   ]
  },
  {
   "cell_type": "markdown",
   "metadata": {},
   "source": [
    "Considere la siguiente representación funcional $f(n)$ definida como:\n",
    "\n",
    "\\begin{equation*}\n",
    "f(n) = \\begin{cases}\n",
    "n/3 , & \\text{si}\\quad n\\geq 0.5 \\\\\n",
    "-(n+5)/6, & \\text{si}\\quad n<0.5\n",
    "\\end{cases}\n",
    "\\end{equation*}"
   ]
  },
  {
   "cell_type": "code",
   "execution_count": 55,
   "metadata": {
    "collapsed": true
   },
   "outputs": [],
   "source": [
    "n = 2.1 # un valor cualquiera mayor o iguala que 0.5\n",
    "if(n>=0.5):\n",
    "    f = n/3\n",
    "else:\n",
    "    f=-(n+5)/6"
   ]
  },
  {
   "cell_type": "code",
   "execution_count": 56,
   "metadata": {},
   "outputs": [
    {
     "name": "stdout",
     "output_type": "stream",
     "text": [
      "0.7000000000000001\n"
     ]
    }
   ],
   "source": [
    "print(f)"
   ]
  },
  {
   "cell_type": "markdown",
   "metadata": {},
   "source": [
    "Consideremos una función más compleja:\n",
    "\n",
    "\\begin{equation*}\n",
    "f(n) = \\begin{cases}\n",
    "\\sqrt{x} , & \\text{si}\\quad x>0 \\\\\n",
    "4\\cos{2\\pi x},& \\text{si}\\quad x\\geq 0\\quad\\text{y}\\quad x<1 \\\\\n",
    "x\\log{(e^{x}\\tanh{x})}, & \\text{si}\\quad x\\leq 1\n",
    "\\end{cases}\n",
    "\\end{equation*}\n",
    "\n",
    "En este caso, necesitaremos algunas librerias básicas de ```Python```."
   ]
  },
  {
   "cell_type": "code",
   "execution_count": 57,
   "metadata": {
    "collapsed": true
   },
   "outputs": [],
   "source": [
    "from math import cos,log,exp,tanh\n",
    "from cmath import sqrt as csqrt\n",
    "\n",
    "x = -4.21\n",
    "if(x<0):\n",
    "    f = csqrt(x)\n",
    "elif((x>0) and (x<1)):\n",
    "    f = 4*cos(2*pi*x)\n",
    "else:\n",
    "    f = x*log((exp(x)*tanh(x)))"
   ]
  },
  {
   "cell_type": "code",
   "execution_count": 58,
   "metadata": {},
   "outputs": [
    {
     "name": "stdout",
     "output_type": "stream",
     "text": [
      "2.0518284528683193j\n"
     ]
    }
   ],
   "source": [
    "print(f)"
   ]
  },
  {
   "cell_type": "markdown",
   "metadata": {},
   "source": [
    "Cuando escribimos códigos en la vida real, usualmente nos encontraremos con situaciones en donde necesitamos usar un poco de matemáticas. Como otros lenguajes de programación, **C**, **C++**, entre otros, ```Python``` proporciona varios operadores para realizar cálculos básicos como multiplación $*$, % para módulos y // para división. Si estas escribiendo tareas específicas en donde se requiera uso de funciones trigonométricas, puedes acceder a ella incluyendo dos módulos matemáticos primero, **cmath** (números complejos) y **math**\n",
    "(funciones trigonométricas, hiperbólicas, logarítmicas, entre otras.)"
   ]
  },
  {
   "cell_type": "markdown",
   "metadata": {},
   "source": [
    "### Sentencias While \n",
    "Un ciclo ```while``` prueba una condición inicial. Si esa condición es verdadera, el ciclo comienza a ejecutarse. Cada vez que termina el ciclo, la condición se vuelve a evaluar. Mientras la condición permanezca verdadera, el ciclo sigue ejecutándose. Tan pronto como la condición se vuelva falsa, el ciclo deja de ejecutarse."
   ]
  },
  {
   "cell_type": "code",
   "execution_count": 59,
   "metadata": {},
   "outputs": [
    {
     "name": "stdout",
     "output_type": "stream",
     "text": [
      "0\n",
      "1\n",
      "2\n",
      "3\n",
      "4\n"
     ]
    }
   ],
   "source": [
    "count = 0\n",
    "while count < 5:\n",
    "    print(count)\n",
    "    count += 1 # o puede usar count = count + 1"
   ]
  },
  {
   "cell_type": "markdown",
   "metadata": {},
   "source": [
    "### Un ejemplo más elaborado: Método de Newton-Raphson\n",
    "En análisis numérico, el método de ```Newton-Raphson``` es un algoritmo para encontrar aproximaciones de los ceros o raíces de una función lineal. También puede ser utilizado para encontrar máximos o mínimos de una función $f(x)$ encontrando ceros de su primera derivada.\n",
    "\n",
    "Sea $f:[a,b]\\Rightarrow\\mathbb{R}$ una función derivable definida en el intervalo $[a,b]$. Comenzamos con un valor inicial $x_0$ y definimos para cada número natural $n$:\n",
    "\n",
    "\\begin{equation*}\n",
    "x_{n+1} = x_{n} - \\frac{f(x_n)}{f^{'}(x_n)}\n",
    "\\end{equation*}\n",
    "\n",
    "Encuentre las raíces del polinomio $f(x)=2x^2 - 5x + 1$ con $x_0 = 5$ y $h = 0.01$"
   ]
  },
  {
   "cell_type": "code",
   "execution_count": 60,
   "metadata": {
    "collapsed": true
   },
   "outputs": [],
   "source": [
    "# Creamos la funcion \"derivada\"\n",
    "def derivada(f,x,h):\n",
    "    return (f(x+h) - f(x-h)) / (2.0*h)\n",
    "\n",
    "# Creamos la funcion Cuadratica\n",
    "def cuadratica(x):\n",
    "    return 2*x*x-5*x+1 \n",
    "\n",
    "# Creamos la funcion resuelve\n",
    "def resuelve(f,x0,h):\n",
    "    lastX = x0 \n",
    "    nextX = lastX + 10*h\n",
    "    while(abs(lastX-nextX) > h): # Tolerancia \n",
    "        newY = f(nextX)\n",
    "        print(\"f(\",nextX,\")=\",newY)\n",
    "        lastX = nextX\n",
    "        nextX = lastX - newY / derivada(f,lastX,h)\n",
    "    return(nextX)"
   ]
  },
  {
   "cell_type": "code",
   "execution_count": 61,
   "metadata": {},
   "outputs": [
    {
     "name": "stdout",
     "output_type": "stream",
     "text": [
      "f( 5.1 )= 27.519999999999996\n",
      "f( 3.3129870129869916 )= 6.386830831505982\n",
      "f( 2.5390084577053176 )= 1.1980856080716826\n",
      "f( 2.306642719352343 )= 0.10798767272062904\n",
      "f( 2.281093006392881 )= 0.0013055756646203065\n",
      "Solucion: x = 2.2807764550108707\n"
     ]
    }
   ],
   "source": [
    "xx = resuelve(cuadratica, 5, 0.01)\n",
    "print(\"Solucion: x =\", xx)"
   ]
  }
 ],
 "metadata": {
  "kernelspec": {
   "display_name": "Python 3",
   "language": "python",
   "name": "python3"
  },
  "language_info": {
   "codemirror_mode": {
    "name": "ipython",
    "version": 3
   },
   "file_extension": ".py",
   "mimetype": "text/x-python",
   "name": "python",
   "nbconvert_exporter": "python",
   "pygments_lexer": "ipython3",
   "version": "3.6.1"
  }
 },
 "nbformat": 4,
 "nbformat_minor": 2
}
