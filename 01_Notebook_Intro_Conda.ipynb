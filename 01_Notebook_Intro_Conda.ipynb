{
 "cells": [
  {
   "cell_type": "markdown",
   "metadata": {
    "collapsed": true
   },
   "source": [
    "# Introducción a Conda\n",
    "### Andrés C. Medina"
   ]
  },
  {
   "cell_type": "markdown",
   "metadata": {},
   "source": [
    "### ¿ Qué es Anaconda ? "
   ]
  },
  {
   "cell_type": "markdown",
   "metadata": {},
   "source": [
    "```Anaconda``` es una distribución de ```Python``` que contiene paquetes mas usados en temas de ciencia, matemáticas o ingeniería como pueden ser ```Numpy```, ```Scipy``` y ```Matplotlib```. Se distribuye bajo [licencia BSD de tres clausulas](http://docs.continuum.io/anaconda/eula) asi que [se considera software libre](http://www.gnu.org/licenses/license-list.html#ModifiedBSD)\n",
    "\n",
    "<img src=figs/conda.png width=400 height=100 />\n",
    "\n",
    "Conda es un gestor de paquetes y entornos virtuales multiplataforma que nos permite instalar, actualizar paquetes y sus dependencias, de esta manera podremos configurar y cambiar distintos entornos en nuestro ordenador. A grandes rasgos, un entorno virtual o ```Virtual Environment``` es una caperta en la que se encuentran los ejecutables de python y las distintas versiones de las librerias que utilizaremos."
   ]
  },
  {
   "cell_type": "markdown",
   "metadata": {},
   "source": [
    "### ¿ Porqué usar Anaconda ? "
   ]
  },
  {
   "cell_type": "markdown",
   "metadata": {},
   "source": [
    "Porque es fácil de instalar, fácil de actualizar, y fácil de usar."
   ]
  },
  {
   "cell_type": "markdown",
   "metadata": {},
   "source": [
    "<tr>\n",
    "<td><img src=\"figs/conda_install_win.png\" align=\"middle\" style=\"width: 1000px;\"/> </td>\n",
    "</tr>"
   ]
  },
  {
   "cell_type": "markdown",
   "metadata": {},
   "source": [
    "### Instalar y Testear"
   ]
  },
  {
   "cell_type": "markdown",
   "metadata": {},
   "source": [
    "Instalar es relativamente sencillo, basta con visitar la [pagina oficial de Anaconda](https://conda.io/docs/user-guide/install/windows.html), se descarga el paquete y se siguen las instrucciones. Al finalizar la instalación deberían tener un ```Anaconda Launcher``` en Inicio y un ```Anaconda Prompt```. (pegar imagenes de win)\n",
    "\n",
    "Si se tiene el ```Launcher``` esta todo ok. Si no está, se puede instala utilizando ```Anaconda Prompt```, escribir en el terminal \n",
    "```python\n",
    ">>> conda install launcher\n",
    "```\n",
    "Este, es el procedimiento para instalar cualquier paquete. Para actualizar ```conda``` se hace del mismo terminal  ```Anaconda Prompt```\n",
    "```python\n",
    ">>> conda update conda\n",
    ">>> conda update anaconda\n",
    "```"
   ]
  },
  {
   "cell_type": "markdown",
   "metadata": {},
   "source": [
    "### Comandos Útiles"
   ]
  },
  {
   "cell_type": "markdown",
   "metadata": {},
   "source": [
    "* **Lista información de los ambientes creados**\n",
    "```python\n",
    ">>> conda info --envs\n",
    "```\n",
    "* **Crea un ambiente** \n",
    "```python\n",
    ">>> conda create -n yourname\n",
    "```\n",
    "* **Crea una copia de un ambiente** \n",
    "```python\n",
    ">>> conda create --name copyname --clone yourname\n",
    "```\n",
    "* **Elimina un ambiente** \n",
    "```python\n",
    ">>> conda remove -name yourname -all\n",
    "```\n",
    "* **Activa ambiente creado**\n",
    "```python\n",
    ">>> source activate yourname (Linux)\n",
    ">>> activate yourname (Windows)\n",
    "```\n",
    "* **Desactiva ambiente creado**\n",
    "```python\n",
    ">>> source deactivate (Linux)\n",
    ">>> deactivate (Windows)\n",
    "```\n",
    "* **Lista de paquetes instalados en conda y versiones**\n",
    "```python\n",
    ">>> conda list -e\n",
    "```\n",
    "* **Busqueda de paquetes especificos** \n",
    "```python\n",
    ">>> conda search paquete\n",
    "```\n",
    "* **Instalando Paquetes**\n",
    "```python\n",
    ">>> conda install package\n",
    "```\n",
    "* **Crea lista de paquetes** \n",
    "```python\n",
    ">>> conda list -e > requirements.txt\n",
    "```\n",
    "* **Instala lista de paquetes** \n",
    "```python\n",
    ">>> conda install --file requirements.txt\n",
    "```\n",
    "\n",
    "Para mayor conocimiento de comandos básicos en terminal conda visitar [Hoja de Trucos de Conda](https://conda.io/docs/_downloads/conda-cheatsheet.pdf).\n",
    "\n",
    "Se recomienda instalar:\n",
    "* [Jupyter](http://jupyter.org/) Terminal Web\n",
    "* [Pandas](https://pandas.pydata.org/) Para procesar datos\n",
    "* [Matplotlib](https://matplotlib.org/) Para realizar graficos\n",
    "* [Seaborn](https://seaborn.pydata.org/) Para realizar graficos mas elaborados\n",
    "* [Scikit-Learn](http://scikit-learn.org/stable/) Para Machine Learning\n",
    "* [StatModels](http://www.statsmodels.org/stable/index.html) Para modelos estadisticos"
   ]
  },
  {
   "cell_type": "markdown",
   "metadata": {},
   "source": [
    "### ¿ Qué es Jupyter ?"
   ]
  },
  {
   "cell_type": "markdown",
   "metadata": {},
   "source": [
    "```Jupyter Notebook```  es una aplicacion web que permite crear y compartir documentos que contienen codigo fuente, ecuaciones, visualizaciones y texto aplicativo. Entre sus usos esta la limpieza y transformacion de datos, simulacion numerica, modelado estadistico, machine learning entre otros. El acronimo ```Jupyter``` viene de los nombres iniciales de los softwares Julia + Python + R.\n",
    "\n",
    "<tr>\n",
    "<td><img src=\"figs/jupyter_not.jpg\" align=\"middle\" style=\"width: 500px;\"/> </td>\n",
    "</tr>"
   ]
  },
  {
   "cell_type": "markdown",
   "metadata": {},
   "source": [
    "### Instalando Paquetes Necesarios"
   ]
  },
  {
   "cell_type": "markdown",
   "metadata": {},
   "source": [
    "* **Buscar el paquete e instalar** \n",
    "```python\n",
    ">>> conda search jupyter\n",
    "```\n",
    "<tr>\n",
    "<td><img src=\"figs/jupyter_conda.png\" align=\"middle\" style=\"width: 500px;\"/> </td>\n",
    "</tr>\n",
    "\n",
    "El terminal muestra todos los paquetes que contienen el nombre ```Jupyter```. Para instalar este paquete, basta con teclear en el terminal de conda \n",
    "```python\n",
    ">>> conda install jupyter\n",
    "```\n",
    "Una vez ya instalado, para abrir un ```notebook```, basta con teclear en el terminal de conda\n",
    "```python\n",
    ">>> jupyter notebook\n",
    "```\n",
    "<tr>\n",
    "<td><img src=\"figs/screen0.png\" align=\"middle\" style=\"width: 500px;\"/> </td>\n",
    "</tr>\n",
    "\n",
    "Automaticamente, se abre una ventana del navegador por defecto con la siguiente forma.\n",
    "\n",
    "<tr>\n",
    "<td><img src=\"figs/screen1.png\" align=\"middle\" style=\"width: 500px;\"/> </td>\n",
    "</tr>\n",
    "\n",
    "Para crear un ```notebook``` de ```Python```, basta con teclear en\n",
    "```New``` y elegir ```Python 3``` \n",
    "\n",
    "<tr>\n",
    "<td><img src=\"figs/screen_2.png\" align=\"middle\" style=\"width: 500px;\"/> </td>\n",
    "</tr>\n",
    "\n",
    "Inmediatamente, se muestra un ```notebook``` como el siguiente:\n",
    "\n",
    "<tr>\n",
    "<td><img src=\"figs/scree_not.png\" align=\"middle\" style=\"width: 500px;\"/> </td>\n",
    "</tr>\n",
    "\n",
    "Para guardar el notebook con algun nombre de su eleccion, basta por teclear en ```Untitled``` y reemplaza por algun nombre de eleccion. Luego teclear guardar en el icono."
   ]
  }
 ],
 "metadata": {
  "kernelspec": {
   "display_name": "Python 3",
   "language": "python",
   "name": "python3"
  },
  "language_info": {
   "codemirror_mode": {
    "name": "ipython",
    "version": 3
   },
   "file_extension": ".py",
   "mimetype": "text/x-python",
   "name": "python",
   "nbconvert_exporter": "python",
   "pygments_lexer": "ipython3",
   "version": "3.6.1"
  }
 },
 "nbformat": 4,
 "nbformat_minor": 2
}
